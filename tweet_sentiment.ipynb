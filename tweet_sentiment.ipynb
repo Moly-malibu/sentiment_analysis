{
 "cells": [
  {
   "cell_type": "markdown",
   "metadata": {
    "hide_input": false
   },
   "source": [
    "# Sentiment Anlaysis\n",
    "## An Introduction\n",
    "### What is it?\n",
    "Natural Language Processing (NLP): A sub-discipline of computer science, artificial intelligence and linguistics that builds computational models to process and understand natural language. Examples include language translation, auto-correct, language generation, topic summarization, sentiment analysis, and many more.  \n",
    "\n",
    "Sentiment Analysis: Identification of opinions/emotions (positive, negative and neutral) within text data.  It can be used to identify public sentiment towards certain words or topics and gauge the attitude/sentiment using analytical processing of the textual data.\n",
    "\n",
    "In this notebook, we'll look at some Twitter data, learn how to convert to numerical features, and develop a basic Sentiment Analysis model to categorize a the tone of a tweet.  In the process, we will uncover some issues with text data, discuss cleaning and ways of converting to features, and use a pre-trained model.  By the end of this lecture, you should have an understanding of sentiment analysis, how it is used, and ways of creating such a model.\n",
    "\n",
    "\n",
    "#### Who Uses?\n",
    "Businesses today depend on data, period.  Whether from online Yelp reviews, customer survey, social media, chats, or emails, much of this data is unstructured text, which is difficult to use en mass. Added to this difficulty include abbreviated text (slang, short forms, memes and emoticons).  But it's important to have the ability to summarize and understand trends even in this unstructured data.  \n",
    "\n",
    "* Companies track negative/positive sentiment in response to advertising on social media\n",
    "* Aggregated free-form text from online surveys\n",
    "* Identify rising trends (popular songs, foods, brands)\n",
    "\n",
    "\n",
    "#### Further Reading\n",
    "* https://www.kaggle.com/kazanova/sentiment140\n",
    "* https://www.nltk.org/data.html\n",
    "* https://medium.com/@randerson112358/stock-market-sentiment-analysis-using-python-machine-learning-5b644f151a3e\n",
    "* https://regex101.com/\n",
    "* https://algotrading101.com/learn/sentiment-analysis-python-guide/\n",
    "* https://www.kdnuggets.com/2016/06/politics-analytics-trump-clinton-sanders-twitter-sentiment.html\n",
    "* https://amiham-singh.github.io/\n",
    "* https://icwsm.org/papers/3--Godbole-Srinivasaiah-Skiena.pdf\n",
    "* https://scikit-learn.org/stable/modules/feature_extraction.html"
   ]
  },
  {
   "cell_type": "markdown",
   "metadata": {},
   "source": [
    "# Example"
   ]
  },
  {
   "cell_type": "code",
   "execution_count": null,
   "metadata": {},
   "outputs": [],
   "source": [
    "import numpy as np \n",
    "import pandas as pd \n",
    "import re\n",
    "import nltk \n",
    "import matplotlib.pyplot as plt\n",
    "from nltk.corpus import stopwords\n",
    "from nltk.corpus import twitter_samples\n",
    "from nltk.sentiment.vader import SentimentIntensityAnalyzer\n",
    "from nltk.sentiment import SentimentAnalyzer\n",
    "from sklearn.feature_extraction.text import TfidfVectorizer, CountVectorizer\n",
    "from sklearn.model_selection import train_test_split\n",
    "from sklearn.linear_model import LogisticRegression\n",
    "from sklearn.naive_bayes import MultinomialNB\n",
    "from sklearn.metrics import roc_auc_score\n",
    "\n",
    "%matplotlib inline\n",
    "nltk.download('twitter_samples')\n",
    "nltk.download('stopwords')\n",
    "nltk.download('vader_lexicon')"
   ]
  },
  {
   "cell_type": "markdown",
   "metadata": {},
   "source": [
    "## Getting the Data"
   ]
  },
  {
   "cell_type": "code",
   "execution_count": null,
   "metadata": {},
   "outputs": [],
   "source": [
    "positive_tweets = twitter_samples.strings('positive_tweets.json')\n",
    "negative_tweets = twitter_samples.strings('negative_tweets.json')"
   ]
  },
  {
   "cell_type": "markdown",
   "metadata": {},
   "source": [
    "From the NLTK package, 5k positive and negative tweets are sampled (labeled by emoticons).  We will use these for our model building and analysis.  What does a positive tweet look like?"
   ]
  },
  {
   "cell_type": "code",
   "execution_count": null,
   "metadata": {},
   "outputs": [],
   "source": [
    "print('Positive Tweets:')\n",
    "for i in range(6):\n",
    "    print(str(i) + ': ' +positive_tweets[i])"
   ]
  },
  {
   "cell_type": "markdown",
   "metadata": {},
   "source": [
    "And negative?"
   ]
  },
  {
   "cell_type": "code",
   "execution_count": null,
   "metadata": {},
   "outputs": [],
   "source": [
    "print('Negative Tweets:')\n",
    "for i in range(6):\n",
    "    print(str(i) + ': ' +negative_tweets[i])"
   ]
  },
  {
   "cell_type": "markdown",
   "metadata": {},
   "source": [
    "### Discussion\n"
   ]
  },
  {
   "cell_type": "markdown",
   "metadata": {},
   "source": [
    "## Pretrained model"
   ]
  },
  {
   "cell_type": "markdown",
   "metadata": {},
   "source": [
    "As part of the NLTK package, there is a already trained sentiment analysis model called VADER ().  We will consider this a \"black-box\" type model to understand how sentiment analysis can be used (but without going into the specifics of this type of model).  To load and use, call \"SentimentIntensityAnalyzer\" with the following:"
   ]
  },
  {
   "cell_type": "code",
   "execution_count": null,
   "metadata": {},
   "outputs": [],
   "source": [
    "sid = SentimentIntensityAnalyzer()\n",
    "sid.polarity_scores(negative_tweets[0])"
   ]
  },
  {
   "cell_type": "code",
   "execution_count": null,
   "metadata": {},
   "outputs": [],
   "source": [
    "#sid.polarity_scores('this is a tweet')"
   ]
  },
  {
   "cell_type": "markdown",
   "metadata": {},
   "source": [
    "## Creating Text Features"
   ]
  },
  {
   "cell_type": "markdown",
   "metadata": {},
   "source": [
    "Before we build a model, consider some tweets and issues the text could have on our outcomes:"
   ]
  },
  {
   "cell_type": "code",
   "execution_count": null,
   "metadata": {},
   "outputs": [],
   "source": [
    "print(positive_tweets[0])\n",
    "print(negative_tweets[0])\n",
    "print(negative_tweets[16])\n",
    "print(negative_tweets[11])"
   ]
  },
  {
   "cell_type": "markdown",
   "metadata": {},
   "source": [
    "Possible steps in cleaning text: \n",
    "* Remove Punctuation\n",
    "* Remove numbers/symbols\n",
    "* Remove Links/URLs/usernames/hashtags\n",
    "* Remove case-senstivity\n",
    "* Stop Words\n",
    "* Whitespace\n",
    "* Misspellings\n"
   ]
  },
  {
   "cell_type": "code",
   "execution_count": null,
   "metadata": {},
   "outputs": [],
   "source": [
    "df = pd.DataFrame(positive_tweets)\n",
    "df = df.append(negative_tweets,0)\n",
    "df.columns = ['text']\n",
    "df['sentiment'] = [1]*len(positive_tweets)+[0]*len(negative_tweets)"
   ]
  },
  {
   "cell_type": "code",
   "execution_count": null,
   "metadata": {},
   "outputs": [],
   "source": [
    "df.head()"
   ]
  },
  {
   "cell_type": "code",
   "execution_count": null,
   "metadata": {},
   "outputs": [],
   "source": [
    "vectorizer = CountVectorizer()\n",
    "bow = vectorizer.fit_transform(df.text).toarray()\n"
   ]
  },
  {
   "cell_type": "code",
   "execution_count": null,
   "metadata": {},
   "outputs": [],
   "source": [
    "#vectorizer.vocabulary_"
   ]
  },
  {
   "cell_type": "code",
   "execution_count": null,
   "metadata": {},
   "outputs": [],
   "source": [
    "\n",
    "X_train, X_test, y_train, y_test = train_test_split(bow, df.sentiment, test_size=0.2, random_state=0)"
   ]
  },
  {
   "cell_type": "code",
   "execution_count": null,
   "metadata": {},
   "outputs": [],
   "source": [
    "model = LogisticRegression(C=1.)\n",
    "\n",
    "#model = MultinomialNB()\n",
    "model.fit(X_train, y_train)\n",
    "\n",
    "print (\"auc (test data):\" , roc_auc_score(y_test, model.predict(X_test)))"
   ]
  },
  {
   "cell_type": "markdown",
   "metadata": {},
   "source": []
  }
 ],
 "metadata": {
  "kernelspec": {
   "display_name": "Python 3",
   "language": "python",
   "name": "python3"
  },
  "language_info": {
   "codemirror_mode": {
    "name": "ipython",
    "version": 3
   },
   "file_extension": ".py",
   "mimetype": "text/x-python",
   "name": "python",
   "nbconvert_exporter": "python",
   "pygments_lexer": "ipython3",
   "version": "3.7.1"
  },
  "toc": {
   "base_numbering": 1,
   "nav_menu": {},
   "number_sections": true,
   "sideBar": true,
   "skip_h1_title": false,
   "title_cell": "Table of Contents",
   "title_sidebar": "Contents",
   "toc_cell": false,
   "toc_position": {},
   "toc_section_display": true,
   "toc_window_display": false
  }
 },
 "nbformat": 4,
 "nbformat_minor": 4
}
